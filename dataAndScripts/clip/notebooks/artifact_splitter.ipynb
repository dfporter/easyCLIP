{
 "cells": [
  {
   "cell_type": "code",
   "execution_count": null,
   "metadata": {},
   "outputs": [],
   "source": [
    "import os, re, matplotlib, pandas, collections, importlib, sys, HTSeq\n",
    "import matplotlib.pyplot as plt\n",
    "import numpy as np\n",
    "import seaborn as sns\n",
    "\n",
    "import __init__\n",
    "\n",
    "from importlib import reload\n",
    "import sameRiver\n",
    "from sameRiver import *\n",
    "\n",
    "from sameRiver.refseqUtils import simplify_gene2refseq, make_gene2refseq2symbol_human, make_refseq_to_biotype\n",
    "from sameRiver.biotypeUtils import make_biotype_map_file, add_biotypes_column_from_gene_name, add_gene_name_and_type_from_refseq\n",
    "from sameRiver.stacked_bargraph import *\n",
    "\n"
   ]
  },
  {
   "cell_type": "code",
   "execution_count": null,
   "metadata": {},
   "outputs": [],
   "source": [
    "remove_artifacts_from_list_of_bedgraphs_folders(\n",
    "    [\n",
    "        '/Users/dfporter/pma/miseq/Runs/170924_hiseq/beds/read_start/',\n",
    "        '/Users/dfporter/pma/miseq/Runs/180105/beds/read_start/',\n",
    "        '/Users/dfporter/pma/miseq/Runs/180117/beds/read_start/'\n",
    "    ])"
   ]
  },
  {
   "cell_type": "code",
   "execution_count": null,
   "metadata": {},
   "outputs": [],
   "source": [
    "ga = HTSeq.GenomicArray('auto', stranded=True)\n",
    "iv = HTSeq.GenomicInterval('I', 100, 101, '+')\n",
    "iv2 = HTSeq.GenomicInterval('I', 101, 102, '+')\n",
    "iv3 = HTSeq.GenomicInterval('I', 201, 202, '+')\n",
    "iv4 = HTSeq.GenomicInterval('I', 500, 501, '+')\n",
    "\n",
    "ga[iv] = 1\n",
    "ga[iv2] = 2\n",
    "ga[iv3] = 3\n",
    "ga[iv4] = 4\n",
    "\n",
    "art = artifactSplitter()\n",
    "ga = art.remove_artifactual_regions(ga)"
   ]
  }
 ],
 "metadata": {
  "kernelspec": {
   "display_name": "Python 3",
   "language": "python",
   "name": "python3"
  },
  "language_info": {
   "codemirror_mode": {
    "name": "ipython",
    "version": 3
   },
   "file_extension": ".py",
   "mimetype": "text/x-python",
   "name": "python",
   "nbconvert_exporter": "python",
   "pygments_lexer": "ipython3",
   "version": "3.6.2"
  }
 },
 "nbformat": 4,
 "nbformat_minor": 2
}
