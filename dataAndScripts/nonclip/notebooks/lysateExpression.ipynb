{
 "cells": [
  {
   "cell_type": "code",
   "execution_count": null,
   "metadata": {},
   "outputs": [],
   "source": [
    "import os, re, matplotlib, pandas, collections\n",
    "import matplotlib.pyplot as plt\n",
    "import numpy as np\n",
    "import pandas, re\n",
    "import seaborn as sns"
   ]
  },
  {
   "cell_type": "code",
   "execution_count": null,
   "metadata": {},
   "outputs": [],
   "source": [
    "def load():\n",
    "    df = pandas.read_excel(\n",
    "        #'/Users/dfporter/pma/clip/experiments/exp33 aka exp34 randos/exp33.xlsx',\n",
    "        '/Users/dfporter/pma/dataAndScripts/tables/lysateExpression.xlsx',\n",
    "        #sheetname='Num for fig qWB lysate 1'\n",
    "    )\n",
    "    df.sort_values(by='Value', ascending=False, inplace=True)\n",
    "    return df\n",
    "\n",
    "\n",
    "def get_kwargs(_df):\n",
    "    return {'kind': 'strip', \n",
    "            'aspect': 1.4, 'data': _df,\n",
    "               'palette': sns.cubehelix_palette(2*len(set(_df['Protein'])), start=0, rot=-0.2)}"
   ]
  },
  {
   "cell_type": "code",
   "execution_count": null,
   "metadata": {},
   "outputs": [],
   "source": [
    "\n",
    "sns.set_style('ticks')\n",
    "df = load()\n",
    "\n",
    "#xl = df[df['Label']=='% XL'].copy()\n",
    "\n",
    "#endog = xl[ [x in {'hnRNP C', 'FBL', 'AURKA'} for x in xl['Protein']] ]\n",
    "\n",
    "#f, (ax1, ax2) = plt.subplots(ncols=1, nrows=2)\n",
    "#ax = sns.tsplot(time=x, data=y, ax=ax1)\n",
    "#ax = sns.tsplot(time=x, data=y, ax=ax2)\n",
    "\n",
    "#ax1.set_xlim(0, 6.5)\n",
    "#ax2.set_xlim(13.5, 20)\n",
    "fig = plt.figure()\n",
    "ax = sns.stripplot(x='Protein', y='Value', data=df,\n",
    "              color='k',\n",
    "              alpha=0.5,\n",
    "           #palette=sns.cubehelix_palette(2*len(set(df['Protein'])), start=0, rot=-0.2),\n",
    "              jitter=True,\n",
    "           )\n",
    "plt.xticks(rotation='vertical')\n",
    "\n",
    "sns.despine()\n",
    "ax.spines['bottom'].set_visible(False)\n",
    "#ax.xaxis.tick_params(length=0)\n",
    "ax.tick_params(labelbottom=False)\n",
    "ax.xaxis.set_label_text('')\n",
    "plt.ylim(2, 30)\n",
    "fig.set_figwidth(2)\n",
    "fig.set_figheight(1)\n",
    "plt.savefig('/Users/dfporter/pma/dataAndScripts/clip/figs/lysate_expression_levels_pcbp1_high.pdf')\n",
    "plt.show()\n",
    "plt.clf()\n",
    "\n",
    "fig = plt.figure()\n",
    "\n",
    "df['Value'] = np.log2(df.Value)\n",
    "\n",
    "sns.stripplot(x='Protein', y='Value', data=df,\n",
    "              color='k',\n",
    "              alpha=0.5,\n",
    "           #palette=sns.cubehelix_palette(2*len(set(df['Protein'])), start=0, rot=-0.2),\n",
    "              jitter=True,\n",
    "           )\n",
    "plt.xticks(rotation='vertical')\n",
    "sns.despine()\n",
    "\n",
    "#plt.ylim(0, 2)\n",
    "fig.set_figwidth(2)\n",
    "plt.savefig('/Users/dfporter/pma/dataAndScripts/clip/figs/lysate_expression_levels_pcbp1_low.pdf')\n",
    "plt.show()\n",
    "plt.clf()\n",
    "\n",
    "\n",
    "#ax1.xaxis.set_ticks('bottom')\n",
    "#ax1.tick_params(length=0)\n",
    "\n",
    "#ax1.spines['bottom'].set_visible(False)\n",
    "#plt.ylabel('Protein abundance vs Tubulin')\n",
    "#ax1.set_ylim(0, 50)"
   ]
  },
  {
   "cell_type": "code",
   "execution_count": null,
   "metadata": {},
   "outputs": [],
   "source": [
    "print(df)\n",
    "print(df.groupby('Protein')['Value'].mean())"
   ]
  },
  {
   "cell_type": "code",
   "execution_count": null,
   "metadata": {},
   "outputs": [],
   "source": []
  }
 ],
 "metadata": {
  "kernelspec": {
   "display_name": "Python 3",
   "language": "python",
   "name": "python3"
  },
  "language_info": {
   "codemirror_mode": {
    "name": "ipython",
    "version": 3
   },
   "file_extension": ".py",
   "mimetype": "text/x-python",
   "name": "python",
   "nbconvert_exporter": "python",
   "pygments_lexer": "ipython3",
   "version": "3.6.2"
  }
 },
 "nbformat": 4,
 "nbformat_minor": 2
}
