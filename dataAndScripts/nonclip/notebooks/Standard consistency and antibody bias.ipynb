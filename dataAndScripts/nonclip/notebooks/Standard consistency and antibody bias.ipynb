{
 "cells": [
  {
   "cell_type": "code",
   "execution_count": null,
   "metadata": {},
   "outputs": [],
   "source": [
    "import matplotlib.pyplot as plt\n",
    "import seaborn as sns\n",
    "import numpy as np\n",
    "\n",
    "import matplotlib.ticker as ticker\n",
    "import pandas"
   ]
  },
  {
   "cell_type": "code",
   "execution_count": null,
   "metadata": {},
   "outputs": [],
   "source": [
    "df = pandas.read_excel('/Users/dfporter/pma/dataAndScripts/clip/experiments/exp64/exp64.xlsx',\n",
    "                      sheet_name='hRNPC vs CSRP2 STDs')\n",
    "\n",
    "df = df[[not(np.isnan(x)) for x in df['ng Est from GST-hnRNPC']]].copy()\n",
    "x = df['ng Est from GST-hnRNPC']\n",
    "y = df['ng Est from GST-HA-CSRP2']\n",
    "\n",
    "sns.set_style('whitegrid')\n",
    "\n",
    "fig = plt.figure()\n",
    "\n",
    "plt.plot([0, 60], [0, 60], 'k:', alpha=0.2)\n",
    "\n",
    "\n",
    "plt.xlim(0, 60)\n",
    "plt.ylim(0, 60)\n",
    "\n",
    "ax = sns.scatterplot(x='ng Est from GST-hnRNPC', y='ng Est from GST-HA-CSRP2', hue='Sample',\n",
    "               data=df, palette='Set1')\n",
    "\n",
    "tick_spacing = 10\n",
    "ax.xaxis.set_major_locator(ticker.MultipleLocator(tick_spacing))\n",
    "ax.yaxis.set_major_locator(ticker.MultipleLocator(tick_spacing))\n",
    "\n",
    "fig.set_figwidth(3)\n",
    "fig.set_figheight(3)\n",
    "\n",
    "ax.set_xlabel('Protein estimated by hnRNP C standard (ng)')\n",
    "ax.set_ylabel('Protein estimated by HA standard (ng)')\n",
    "\n",
    "fig.savefig('../../clip/figs/antibody_comparison_between_standards.pdf')\n",
    "plt.show()\n",
    "\n",
    "plt.clf()\n",
    "plt.close()\n",
    "print(df)"
   ]
  },
  {
   "cell_type": "code",
   "execution_count": null,
   "metadata": {},
   "outputs": [],
   "source": []
  }
 ],
 "metadata": {
  "kernelspec": {
   "display_name": "Python 3",
   "language": "python",
   "name": "python3"
  },
  "language_info": {
   "codemirror_mode": {
    "name": "ipython",
    "version": 3
   },
   "file_extension": ".py",
   "mimetype": "text/x-python",
   "name": "python",
   "nbconvert_exporter": "python",
   "pygments_lexer": "ipython3",
   "version": "3.6.2"
  }
 },
 "nbformat": 4,
 "nbformat_minor": 2
}
