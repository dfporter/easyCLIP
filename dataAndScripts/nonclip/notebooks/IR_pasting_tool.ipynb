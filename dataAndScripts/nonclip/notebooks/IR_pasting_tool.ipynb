{
 "cells": [
  {
   "cell_type": "code",
   "execution_count": null,
   "metadata": {},
   "outputs": [],
   "source": [
    "import pandas"
   ]
  },
  {
   "cell_type": "code",
   "execution_count": null,
   "metadata": {},
   "outputs": [],
   "source": [
    "paste = '''Image Name\tChannel\tName\tSignal\tTotal\tType\n",
    "0009839_01\t700\t00001\t5130\t11000\tSignal\n",
    "0009839_01\t800\t00002\t5290\t9500\tSignal\n",
    "0009839_01\t700\t00003\t12400\t21200\tSignal\n",
    "0009839_01\t800\t00004\t28900\t36500\tSignal\n",
    "0009839_01\t700\t00005\t6200\t14400\tSignal\n",
    "0009839_01\t800\t00006\t6030\t14000\tSignal\n",
    "0009839_01\t700\t00007\t13900\t26300\tSignal\n",
    "0009839_01\t800\t00008\t34800\t46200\tSignal\n",
    "0009839_01\t700\t00009\t2380\t8050\tSignal\n",
    "0009839_01\t800\t00010\t1910\t6040\tSignal\n",
    "0009839_01\t700\t00011\t4610\t12800\tSignal\n",
    "0009839_01\t800\t00012\t11800\t17700\tSignal\n",
    "0009839_01\t700\t00013\t1540\t6770\tSignal\n",
    "0009839_01\t800\t00014\t1560\t4750\tSignal\n",
    "0009839_01\t700\t00015\t3510\t10200\tSignal\n",
    "0009839_01\t800\t00016\t8730\t13200\tSignal\n",
    "0009839_01\t700\t00017\t1170\t6020\tSignal\n",
    "0009839_01\t800\t00018\t736\t3620\tSignal\n",
    "0009839_01\t700\t00019\t2160\t9760\tSignal\n",
    "0009839_01\t800\t00020\t5280\t9360\tSignal\n",
    "0009839_01\t700\t00021\t770\t5240\tSignal\n",
    "0009839_01\t800\t00022\t630\t3600\tSignal\n",
    "0009839_01\t700\t00023\t2080\t7740\tSignal\n",
    "0009839_01\t800\t00024\t5070\t9020\tSignal\n",
    "0009839_01\t700\t00025\t524\t4220\tSignal\n",
    "0009839_01\t800\t00026\t371\t1920\tSignal\n",
    "0009839_01\t700\t00027\t945\t6200\tSignal\n",
    "0009839_01\t800\t00028\t1930\t5170\tSignal\n",
    "0009839_01\t700\t00029\t415\t3970\tSignal\n",
    "0009839_01\t800\t00030\t336\t1820\tSignal\n",
    "0009839_01\t700\t00031\t1480\t6430\tSignal\n",
    "0009839_01\t800\t00032\t2550\t5410\tSignal\n",
    "'''"
   ]
  },
  {
   "cell_type": "code",
   "execution_count": null,
   "metadata": {},
   "outputs": [],
   "source": [
    "\n",
    "lines = paste.split('\\n')\n",
    "outli = \"Image Name\\tIR700\\tIR800\\n\"\n",
    "header = lines[0].split('\\t')\n",
    "print(header)\n",
    "for li in lines[1:]:\n",
    "    s = li.rstrip('\\n').split('\\t')\n",
    "    _d = dict(zip(header, s))\n",
    "    if 'Channel' not in _d:\n",
    "        continue\n",
    "    #print(_d)\n",
    "    if _d['Channel'] == '700':\n",
    "        outli += '\\t'.join([_d['Image Name'], _d['Signal']]).rstrip('\\n')\n",
    "    elif _d['Channel'] == '800':\n",
    "        outli += '\\t' + _d['Signal'].rstrip('\\n') + '\\n'\n",
    "print(outli)\n",
    "\n",
    "flat = '\\t'.join(['Image Name', 'Signal', 'Channel', 'Object',\n",
    "                  'Replicate']) + '\\n'\n",
    "object_n = 0\n",
    "readings_per_replicate = 4\n",
    "current_replicate = 0\n",
    "for n, li in enumerate(lines[1:], start=1):\n",
    "    s = li.rstrip('\\n').split('\\t')\n",
    "    _d = dict(zip(header, s))\n",
    "\n",
    "    if 'Channel' not in _d:\n",
    "        continue\n",
    "    \n",
    "    if n % 2:\n",
    "        object_n += 1\n",
    "    if not ((n-1) % readings_per_replicate):\n",
    "        current_replicate += 1\n",
    "    \n",
    "    flat += '\\t'.join([str(x) for x in [\n",
    "        _d['Image Name'], _d['Signal'], _d['Channel'], object_n, \n",
    "        current_replicate]]) + '\\n'\n",
    "print(flat)"
   ]
  },
  {
   "cell_type": "code",
   "execution_count": null,
   "metadata": {},
   "outputs": [],
   "source": []
  },
  {
   "cell_type": "code",
   "execution_count": null,
   "metadata": {},
   "outputs": [],
   "source": []
  },
  {
   "cell_type": "code",
   "execution_count": null,
   "metadata": {},
   "outputs": [],
   "source": []
  }
 ],
 "metadata": {
  "kernelspec": {
   "display_name": "Python 3",
   "language": "python",
   "name": "python3"
  },
  "language_info": {
   "codemirror_mode": {
    "name": "ipython",
    "version": 3
   },
   "file_extension": ".py",
   "mimetype": "text/x-python",
   "name": "python",
   "nbconvert_exporter": "python",
   "pygments_lexer": "ipython3",
   "version": "3.6.2"
  }
 },
 "nbformat": 4,
 "nbformat_minor": 2
}
