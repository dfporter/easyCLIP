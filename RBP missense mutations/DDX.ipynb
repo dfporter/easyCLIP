{
 "cells": [
  {
   "cell_type": "code",
   "execution_count": null,
   "metadata": {},
   "outputs": [],
   "source": [
    "import pandas, os, sys, re, time, collections, Bio, pprint, random, glob\n",
    "\n",
    "from Bio.SeqUtils import MeltingTemp as mt\n",
    "from Bio.Seq import Seq\n",
    "from Bio import SeqIO\n",
    "import numpy as np"
   ]
  },
  {
   "cell_type": "code",
   "execution_count": null,
   "metadata": {},
   "outputs": [],
   "source": [
    "id_mappings = pandas.read_csv('./old_pma_analysis_inputs/id_mappings.txt', sep='\\t')\n",
    "print(id_mappings.head(1))\n",
    "domains = pandas.read_csv('./old_pma_analysis_inputs/ensg_to_protein_domain.txt', sep='\\t')\n",
    "print(domains.head(2))\n",
    "ensg_to_domains = collections.defaultdict(set)\n",
    "for ensg, desc in zip(domains['Ensembl Gene ID'].tolist(), domains['Interpro Short Description'].tolist()):\n",
    "    ensg_to_domains[ensg].add(desc)\n",
    "\n",
    "symbol_to_domains = collections.defaultdict(set)\n",
    "for symbol, ensg in zip(id_mappings['Gene Symbol'], id_mappings['Ensembl Gene ID']):\n",
    "    symbol_to_domains[symbol] |= ensg_to_domains.get(ensg, set())\n",
    "print(symbol_to_domains['LRRIQ2'])\n",
    "dead = {}\n",
    "for symbol, domains in symbol_to_domains.items():\n",
    "    if type(symbol) != type(''):\n",
    "        continue\n",
    "    #if 'DDX' in symbol:\n",
    "    #    continue\n",
    "    #if 'DEAD/DEAH_box_helicase_dom' in domains:\n",
    "        #dead[symbol] = domains\n",
    "    #    continue\n",
    "    for x in [_ for _ in domains if type(_) == type('')]:\n",
    "        if 'DEAD' in x or 'box_helicase' in x or ('DEXD' in x) or ('RNA_helicase' in x):\n",
    "            dead[symbol] = domains\n",
    "print(len(dead))\n",
    "print(dead)"
   ]
  },
  {
   "cell_type": "code",
   "execution_count": null,
   "metadata": {},
   "outputs": [],
   "source": [
    "amigo = pandas.read_csv('listsOfRbps/rna_binding_genes_from_amigo.txt', sep='\\t', comment='#')['Gene name'].tolist()\n"
   ]
  },
  {
   "cell_type": "code",
   "execution_count": null,
   "metadata": {},
   "outputs": [],
   "source": [
    "df = pandas.read_csv('listsOfRbps/DDX_genes.txt', sep='\\t', header=None)\n",
    "print(len(df.index))\n",
    "print('\\n'.join(df[1]))\n",
    "\n",
    "ddx = list(df[1]) + list(dead.keys())\n",
    "print('----')\n",
    "print('\\n'.join([str(x) for x in ddx]))"
   ]
  },
  {
   "cell_type": "code",
   "execution_count": null,
   "metadata": {},
   "outputs": [],
   "source": [
    "omim = pandas.read_csv('old_pma_analysis_inputs/omim/genemap2.txt', sep='\\t', skiprows=3, dtype=str)\n",
    "print(omim.head(2))\n",
    "omim.dropna(inplace=True, subset=['Phenotypes'])\n",
    "#y= omim.loc[0, 'Phenotypes']\n",
    "#print(type(y))\n",
    "omim = omim.loc[[any([bool(x in amigo) for x in str(cs).split(', ')]) for cs in omim['Gene Symbols']]]\n",
    "#omim = omim.loc[[bool() for x in omim['Phenotypes']], :]\n",
    "omim.to_excel('outputs/omim_genemap2_rbps.xlsx')\n",
    "print(omim.head(3))"
   ]
  },
  {
   "cell_type": "code",
   "execution_count": null,
   "metadata": {},
   "outputs": [],
   "source": [
    "df = pandas.read_csv('cancerLists/humanProteinAtlasPathology.tsv', sep='\\t')\n",
    "df = df.loc[[(x in amigo) for x in df['Gene name']], :]\n",
    "_df = df.copy()"
   ]
  },
  {
   "cell_type": "code",
   "execution_count": null,
   "metadata": {},
   "outputs": [],
   "source": [
    "df = _df.copy()\n",
    "print(df['Cancer'].value_counts())\n",
    "#df = df.loc[[bool(re.search('skin', x, re.IGNORECASE) is not None) for x in df['Cancer']], :]\n",
    "df = df.loc[df['Cancer']=='head and neck cancer', :]\n",
    "print(df)\n",
    "favorable = df.loc[df['prognostic - favourable']<0.01, :]\n",
    "unfavorable = df.loc[df['prognostic - unfavourable']<0.01, :]\n",
    "unfavorable.sort_values(by='prognostic - unfavourable', inplace=True)\n",
    "favorable.sort_values(by='prognostic - favourable', inplace=True)\n",
    "print('\\n'.join(unfavorable['Gene name'].head(10)))\n",
    "\n",
    "print(unfavorable)\n",
    "print('\\n favor:')\n",
    "print('\\n'.join(favorable['Gene name'].head(10)))\n",
    "\n",
    "print(favorable)\n"
   ]
  },
  {
   "cell_type": "code",
   "execution_count": null,
   "metadata": {},
   "outputs": [],
   "source": []
  }
 ],
 "metadata": {
  "kernelspec": {
   "display_name": "Python 3",
   "language": "python",
   "name": "python3"
  },
  "language_info": {
   "codemirror_mode": {
    "name": "ipython",
    "version": 3
   },
   "file_extension": ".py",
   "mimetype": "text/x-python",
   "name": "python",
   "nbconvert_exporter": "python",
   "pygments_lexer": "ipython3",
   "version": "3.8.0"
  }
 },
 "nbformat": 4,
 "nbformat_minor": 4
}
