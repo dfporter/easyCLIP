{
 "cells": [
  {
   "cell_type": "code",
   "execution_count": null,
   "metadata": {},
   "outputs": [],
   "source": []
  },
  {
   "cell_type": "code",
   "execution_count": null,
   "metadata": {},
   "outputs": [],
   "source": [
    "import pandas, os, sys, re, time, collections, Bio, pprint\n",
    "\n",
    "sys.path.append('/Users/dp/pma/')\n",
    "\n",
    "import sameRiver\n",
    "#import sameRiver.biotypeUtils # For biotypeLookupFileMaker\n",
    "\n",
    "from Bio.SeqUtils import MeltingTemp as mt\n",
    "from Bio.Seq import Seq\n",
    "from pprint import pprint as pp\n",
    "from functools import reduce\n",
    "\n",
    "# Study descriptions obtained from:\n",
    "# https://www.cbioportal.org/webservice.do?cmd=getCancerTypes"
   ]
  },
  {
   "cell_type": "code",
   "execution_count": null,
   "metadata": {},
   "outputs": [],
   "source": [
    "our_rbps = ['FUBP1', 'HNRNPCL1', 'RPL5', 'TDRKH', 'EEF1B2', 'PCBP1', 'SF3B1', 'PABPC4L', \n",
    "            'YTHDC2', 'BCLAF1', 'KHDRBS2', 'RARS2', 'A1CF', 'DDX50', 'UPF2', 'DCP1B', 'NUFIP1', \n",
    "            'DICER1', 'NOVA1', 'CNOT1', 'RBFOX1', 'KPNB1', 'SRSF2', 'CRNKL1', 'RBM39', 'RBM11', \n",
    "            'U2AF1', 'DDX3X', 'EIF1AX', 'RPL10', 'RQCD1'] \n",
    "our_rbps_as_str = '+'.join(our_rbps)\n"
   ]
  },
  {
   "cell_type": "code",
   "execution_count": null,
   "metadata": {},
   "outputs": [],
   "source": [
    "df = pandas.read_csv('uniprot_id_to_gene_name.tab', sep='\\t', index_col=False)\n",
    "df.columns = ['Uniprot', 'Gene']\n",
    "uniprot_to_gene_name = dict(zip([x.upper() for x in df.Uniprot], [x.upper() for x in df.Gene]))\n",
    "amigo = pandas.read_csv('listsOfRbps/rna_binding_genes_from_amigo.txt', sep='\\t', comment='#')['Gene name'].tolist()\n",
    "\n",
    "missing_rbps = ['TDRKH', 'CNOT9', 'KHDRBS2', 'UPF2']\n",
    "missing_rbps.extend(our_rbps)\n",
    "for rbp in missing_rbps:\n",
    "    if rbp not in amigo:\n",
    "        amigo.append(rbp)\n",
    "        \n",
    "census = pandas.read_excel('listsOfRbps/rbp_table_from_rbp_census_nrg3818_s3.xls')['gene name'].tolist()\n",
    "census = set(census) - set([''])\n",
    "census = census - set(amigo)\n",
    "census = list(census)\n",
    "\n",
    "        \n",
    "not_actually_rbps = [\n",
    "#    'BRCA1', 'CDKN2A', 'JUN'\n",
    "]\n",
    "amigo_as_str = '+'.join(amigo)\n",
    "census_as_str = '+'.join(census)\n",
    "our_rbps_as_str = '+'.join(our_rbps)\n",
    "\n",
    "chunk_size = 100\n",
    "amigo_chunks = []\n",
    "for n in range(0, len(amigo), 100):\n",
    "    right_edge = min([n+100, len(amigo)])\n",
    "    amigo_chunks.append('+'.join(amigo[n:right_edge]))\n",
    "\n",
    "census_chunks = []\n",
    "for n in range(0, len(census), 100):\n",
    "    right_edge = min([n+100, len(census)])\n",
    "    census_chunks.append('+'.join(census[n:right_edge]))\n",
    "print(census_as_str[:30])\n",
    "print(len(census))\n",
    "#print(amigo_chunks)"
   ]
  },
  {
   "cell_type": "code",
   "execution_count": null,
   "metadata": {},
   "outputs": [],
   "source": [
    "import re\n",
    "m = re.search('MYC', amigo_as_str)\n",
    "print(m)\n",
    "for chunk in amigo_chunks:\n",
    "    m = re.search('MYC', chunk)\n",
    "    print(m)"
   ]
  },
  {
   "cell_type": "code",
   "execution_count": null,
   "metadata": {},
   "outputs": [],
   "source": [
    "df = pandas.read_csv('all_TCGA_data/mutations.txt', sep='\\t')\n",
    "study_ids = set(df['STUDY_ID'].tolist())\n",
    "print(len(study_ids))\n",
    "print(study_ids)"
   ]
  },
  {
   "cell_type": "code",
   "execution_count": null,
   "metadata": {
    "jupyter": {
     "outputs_hidden": true
    }
   },
   "outputs": [],
   "source": [
    "import requests\n",
    "import json\n",
    "for study_id in study_ids:\n",
    "    url = f'https://www.cbioportal.org/api/studies/{study_id}/'\n",
    "    url += 'patients?projection=DETAILED&pageSize=10000000&pageNumber=0' \n",
    "    r = requests.get(url)\n",
    "    f = open(f'all_TCGA_data/patient_info/{study_id}.txt', 'w')\n",
    "    f.write(r.text)\n",
    "    f.close()\n",
    "    time.sleep(5)"
   ]
  },
  {
   "cell_type": "code",
   "execution_count": null,
   "metadata": {},
   "outputs": [],
   "source": [
    "\n",
    "\n",
    "#r = requests.get(url)\n",
    "#for row in r.json():\n",
    "#    print(row)\n",
    "f = open('all_TCGA_data/patient_info/mixed_allen_2018.txt')\n",
    "data = json.load(f)\n",
    "f.close()\n",
    "\n",
    "print(data)"
   ]
  },
  {
   "cell_type": "code",
   "execution_count": null,
   "metadata": {
    "jupyter": {
     "outputs_hidden": true
    }
   },
   "outputs": [],
   "source": [
    "import requests\n",
    "import json\n",
    "\n",
    "#amigo_chunks = [our_rbps_as_str]\n",
    "url = 'http://www.cbioportal.org/webservice.do?cmd=getCaseLists&cancer_study_id=gbm_tcga'\n",
    "url = 'http://www.cbioportal.org/webservice.do?cmd=getProfileData&case_set_id=gbm_tcga_all&genetic_profile_id=gbm_tcga_mutations&gene_list=BRCA1+BRCA2+TP53'\n",
    "url = 'http://www.cbioportal.org/webservice.do?cmd=getProfileData&cancer_study_id=mixed_pipseq_2017&case_set_id=mixed_pipseq_2017_all&genetic_profile_id=mixed_pipseq_2017_mutations&gene_list=' + amigo_chunks[0]\n",
    "\n",
    "\n",
    "amigo_chunks = census_chunks\n",
    "\n",
    "done_study_ids = set()\n",
    "for study_id in study_ids:\n",
    "    outputs = []\n",
    "    print('\\n({}/{})'.format(len(done_study_ids)+1, len(study_ids)), study_id)\n",
    "    fname = 'all_TCGA_data/Jan2020_census_api_outputs/census_{}.txt'.format(study_id)\n",
    "    if os.path.exists(fname):\n",
    "        print(\"Skipping {} (file exists).\".format(study_id))\n",
    "        done_study_ids.add(study_id)\n",
    "        continue\n",
    "    f = open(fname, 'w')\n",
    "    \n",
    "    for n, amigo_chunk in enumerate(amigo_chunks):\n",
    "        print('Chunk {}/{}'.format(n+1, len(amigo_chunks)), end=', ')\n",
    "        url = 'http://www.cbioportal.org/webservice.do?cmd=getProfileData'\n",
    "        url += '&cancer_study_id={std}&case_set_id={std}_all&genetic_profile_id={std}_mutations'.format(std=study_id)\n",
    "        url += '&gene_list=' + amigo_chunk\n",
    "        #url = 'http://www.cbioportal.org/webservice.do?cmd=getGeneticProfiles&cancer_study_id=mixed_pipseq_2017'\n",
    "        if 'MYC' in amigo_chunk:\n",
    "            print(\"MYC in chunk:\", amigo_chunk)\n",
    "        r = requests.get(url)\n",
    "        f.write(r.text)\n",
    "#        lines = r.text.split('\\n')\n",
    "#        outputs.append(r.text)\n",
    "        time.sleep(5)\n",
    "    f.close()\n",
    "    done_study_ids.add(study_id)\n",
    "    time.sleep(10)\n",
    "#lines = r.text.split('\\n')\n",
    "#for li in lines:\n",
    "#    print(li)\n",
    "#print(lines[:3]) \n"
   ]
  },
  {
   "cell_type": "code",
   "execution_count": null,
   "metadata": {},
   "outputs": [],
   "source": []
  }
 ],
 "metadata": {
  "kernelspec": {
   "display_name": "Python 3",
   "language": "python",
   "name": "python3"
  },
  "language_info": {
   "codemirror_mode": {
    "name": "ipython",
    "version": 3
   },
   "file_extension": ".py",
   "mimetype": "text/x-python",
   "name": "python",
   "nbconvert_exporter": "python",
   "pygments_lexer": "ipython3",
   "version": "3.8.0"
  }
 },
 "nbformat": 4,
 "nbformat_minor": 4
}
