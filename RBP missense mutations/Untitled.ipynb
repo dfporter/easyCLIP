{
 "cells": [
  {
   "cell_type": "code",
   "execution_count": null,
   "metadata": {},
   "outputs": [],
   "source": [
    "import pandas, collections\n",
    "amigo = pandas.read_csv('listsOfRbps/rna_binding_genes_from_amigo.txt', sep='\\t', comment='#', header=1)\n",
    "amigo = pandas.read_csv('old_pma_analysis_inputs/rna_binding_genes_from_amigo', sep='\\t', comment='#')#, header=1)\n",
    "mappings = pandas.read_csv('old_pma_analysis_inputs/id_mappings.txt', sep='\\t')\n",
    "print(mappings)\n",
    "uni_to_ensg = dict(zip(mappings['Swissprot Id'], mappings['Ensembl Gene ID']))\n",
    "amigo['_id'] = [x.split(':')[-1] for x in amigo['Uniprot']]\n",
    "uniprot_to_id = dict(zip(amigo._id, amigo['Gene name']))\n",
    "#uniprot = set(uniprot)\n",
    "\n",
    "ensg_domain = pandas.read_csv('/Users/dp/misc_projects/perturb/translations/ensg_to_protein_domain.txt', sep='\\t')\n",
    "#ensg_to_domain = dict(zip(ensg_domain))\n",
    "uni_to_domain = {}\n",
    "#for k, v in uni_to_ensg.items():\n",
    "#    if k in uni\n",
    "print(ensg_domain)\n",
    "print(amigo)"
   ]
  },
  {
   "cell_type": "code",
   "execution_count": null,
   "metadata": {},
   "outputs": [],
   "source": [
    "\n",
    "class domainGetter:\n",
    "    \n",
    "    def __init__(self):\n",
    "        self.rbd_domains = ['RRM_dom', 'Nucleotide-bd_a/b_plait', 'Piwi', \n",
    "         'dsRBD_dom', 'S1-like_RNA-bd_dom', 'RNA_helicase','DEAD',\n",
    "         'Znf_CHHC','Znf_CCCH','DEATH','PUM-HD','KH_dom','LSM_dom', 'Znf_CCHC',\n",
    "                      'PWI_dom']\n",
    "\n",
    "        mappings = pandas.read_csv('old_pma_analysis_inputs/id_mappings.txt', sep='\\t')\n",
    "        print(mappings)\n",
    "        uni_to_ensg = dict(zip(mappings['Swissprot Id'], mappings['Ensembl Gene ID']))\n",
    "        \n",
    "\n",
    "        ensg_id = pandas.read_csv('old_pma_analysis_inputs//ensg_enst_refseq_name.txt', sep='\\t')\n",
    "        ensg_id.drop_duplicates(subset=['Ensembl Gene ID'], inplace=True)\n",
    "        self.ensg_to_id = dict(zip(ensg_id['Ensembl Gene ID'], ensg_id['Associated Gene Name']))\n",
    "        \n",
    "        domains = pandas.read_csv('./old_pma_analysis_inputs/ensg_to_protein_domain.txt', sep='\\t')\n",
    "        domains['Gene name'] = [self.ensg_to_id.get(x) for x in domains['Ensembl Gene ID']]\n",
    "\n",
    "        self.ensg_to_domains = collections.defaultdict(set)\n",
    "        for row in domains.to_dict('records'):\n",
    "            if type(row['Interpro Short Description']) == type(''):\n",
    "                self.ensg_to_domains[row['Ensembl Gene ID']].add(row['Interpro Short Description'])\n",
    "                #print(self.ensg_to_domains)\n",
    "                #raise IOError\n",
    "                \n",
    "        self.uni_to_domains = collections.defaultdict(set)\n",
    "        for uniprot_id, ensg in uni_to_ensg.items():\n",
    "            if ensg in self.ensg_to_domains:\n",
    "                self.uni_to_domains[uniprot_id] = self.ensg_to_domains[ensg]\n",
    "                \n",
    "    def has_rbd(self, _iterable) -> bool:\n",
    "        if type(_iterable) == type(\"\"):\n",
    "            _iterable = _iterable.split(',')\n",
    "\n",
    "        for x in _iterable:\n",
    "            for keyword in self.rbd_domains:\n",
    "                if keyword in x:\n",
    "                    return True\n",
    "        return False\n",
    "    \n",
    "dg = domainGetter()\n",
    "has_an_rbp = [dg.has_rbd(x) for x in dg.ensg_to_domains.values()]\n",
    "#print(has_an_rbp)\n",
    "print(f'{sum(has_an_rbp)}/{len(has_an_rbp)}')\n",
    "#list(dg.uni_to_domains.keys())[0]"
   ]
  },
  {
   "cell_type": "code",
   "execution_count": null,
   "metadata": {},
   "outputs": [],
   "source": [
    "0.97**30"
   ]
  },
  {
   "cell_type": "code",
   "execution_count": null,
   "metadata": {},
   "outputs": [],
   "source": [
    "\n",
    "dancr = ['P06744', 'Q96EY7', 'P13646', 'P13797', 'Q15084', 'P30041', 'Q99832', 'Q8IXQ5', 'P06241', 'O60292', 'Q13277', 'P31948', 'P40926', 'P30086', 'P30048', 'O43707', 'P15311', 'P61604', 'P22234', 'P60174', 'P68400', 'P00558', 'Q9UHB6', 'O75369', 'P08758', 'P22314', 'P17302', 'Q96PY5']\n",
    "rbps = [x for x in dancr if x in uniprot]\n",
    "\n",
    "# DANCR\n",
    "df = pandas.read_excel('/Users/dp/Downloads/48391_0_other_1_pz8jnp/48391_0_supp_498877_py4xqk.xlsx',\n",
    "                         sheet_name='sig')\n",
    "\n",
    "# XIST\n",
    "df = pandas.read_excel('/Users/dp/Downloads/48391_0_other_1_pz8jnp/48391_0_supp_498878_py4xqf.xlsx',\n",
    "                         sheet_name='sig')\n",
    "\n",
    "if 'Acccession' in df.columns:\n",
    "    df['Accession'] = df['Acccession']\n",
    "rbps = df#.loc[[x in uniprot for x in df['Acccession']], :]\n",
    "rbps['domains'] = [', '.join(dg.uni_to_domains.get(x, '')) for x in rbps.Accession]\n",
    "rbps['RBP?'] = [dg.has_rbd(x) for x in rbps.domains]\n",
    "print(rbps.loc[26]['domains'])\n",
    "print(rbps)\n",
    "print(dancr)"
   ]
  },
  {
   "cell_type": "code",
   "execution_count": null,
   "metadata": {},
   "outputs": [],
   "source": []
  }
 ],
 "metadata": {
  "kernelspec": {
   "display_name": "Python 3",
   "language": "python",
   "name": "python3"
  },
  "language_info": {
   "codemirror_mode": {
    "name": "ipython",
    "version": 3
   },
   "file_extension": ".py",
   "mimetype": "text/x-python",
   "name": "python",
   "nbconvert_exporter": "python",
   "pygments_lexer": "ipython3",
   "version": "3.7.4"
  }
 },
 "nbformat": 4,
 "nbformat_minor": 4
}
