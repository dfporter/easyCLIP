{
 "cells": [
  {
   "cell_type": "code",
   "execution_count": null,
   "metadata": {},
   "outputs": [],
   "source": [
    "import re, os, glob\n",
    "import numpy as np\n",
    "import matplotlib.pyplot as plt\n",
    "import pandas\n",
    "import seaborn as sns\n"
   ]
  },
  {
   "cell_type": "code",
   "execution_count": null,
   "metadata": {},
   "outputs": [],
   "source": [
    "current_palette = sns.color_palette(palette='muted', n_colors=5)\n",
    "sns.palplot(current_palette)\n",
    "plt.show()\n",
    "plt.clf()\n",
    "\n",
    "current_palette = sns.color_palette(palette='bright', n_colors=5)\n",
    "sns.palplot(current_palette)\n",
    "plt.show()\n",
    "plt.clf()\n",
    "\n",
    "current_palette = sns.color_palette(palette='cubehelix', n_colors=4)\n",
    "sns.palplot(current_palette)\n",
    "plt.show()\n",
    "plt.clf()\n",
    "current_palette = sns.color_palette(palette='', n_colors=5)\n"
   ]
  },
  {
   "cell_type": "code",
   "execution_count": null,
   "metadata": {},
   "outputs": [],
   "source": [
    "genes = pandas.read_excel('RBP_high_freq_mutations.xlsx', sheet_name='Genomic locations')\n",
    "genes['pos'] = genes['Start']/1E6\n",
    "genes.index = genes['Name']\n",
    "print(genes)"
   ]
  },
  {
   "cell_type": "code",
   "execution_count": null,
   "metadata": {},
   "outputs": [],
   "source": [
    "df = pandas.read_excel('RBP_high_freq_mutations.xlsx', sheet_name='Chromosome lengths')\n",
    "print(df.head(2))\n",
    "\n",
    "df['length'] = df['Total length (bp)']/1E6\n",
    "total_len = df['length'].sum()\n",
    "\n",
    "fig = plt.figure()\n",
    "ax = plt.subplot(111, projection='polar')\n",
    "print(list(current_palette.as_hex()))\n",
    "colors = list(current_palette.as_hex()) # 'rbgk'\n",
    "#colors = 'rbgk'\n",
    "start_theta = 0\n",
    "chrom_to_start_theta = {}\n",
    "chrom_to_theta_per_million_bp = {}\n",
    "chrom_to_color = {}\n",
    "\n",
    "for n, chrom in enumerate(df.Chromosome):\n",
    "    print(chrom)\n",
    "    chr_len = float(df.loc[df['Chromosome']==chrom, 'length'])\n",
    "    print(chr_len)\n",
    "    \n",
    "    chr_rad = 2 * np.pi * chr_len/total_len\n",
    "    theta = np.arange(start_theta, chr_rad + start_theta, 0.01)\n",
    "    r = [2 for x in theta]\n",
    "\n",
    "    chrom_to_start_theta[chrom] = start_theta\n",
    "    chrom_to_theta_per_million_bp[chrom] = chr_rad/chr_len\n",
    "    chrom_to_color[chrom] = colors[n % len(colors)]\n",
    "    print('st=', start_theta)\n",
    "    ax.plot(theta, r, colors[n % len(colors)])\n",
    "    ax.text(start_theta + chr_rad/2, 2.2, s=chrom, fontdict={'fontsize': 7})\n",
    "    \n",
    "    start_theta += chr_rad\n",
    "    \n",
    "for gene in genes['Name']:\n",
    "    chrom = genes.loc[gene, 'Chromosome']\n",
    "    pos = genes.loc[gene, 'pos']\n",
    "    theta_pos = chrom_to_start_theta[chrom] + pos * chrom_to_theta_per_million_bp[chrom]\n",
    "    print(f\"{gene} {chrom} {pos} -> theta_pos = {theta_pos}\")\n",
    "    \n",
    "    ax.plot([theta_pos] * 2, [0, 3], chrom_to_color[chrom], alpha=0.2)\n",
    "    ax.text(theta_pos, 3, s=gene)\n",
    "#ax.set_rmax(3)\n",
    "#ax.set_rticks([])  # less radial ticks\n",
    "#ax.set_xticks([])\n",
    "#ax.set_xticklabels('')\n",
    "ax.set_axis_off()\n",
    "\n",
    "#ax.set_rlabel_position(-22.5)  # get radial labels away from plotted line\n",
    "ax.grid(False)\n",
    "\n",
    "#ax.set_title(\"A line plot on a polar axis\", va='bottom')\n",
    "fig.set_figwidth(5)\n",
    "fig.set_figheight(5)\n",
    "fig.savefig(fname=\"figs/chromosome_wheel.pdf\")\n",
    "plt.show()\n",
    "plt.clf()\n",
    "plt.close()"
   ]
  },
  {
   "cell_type": "code",
   "execution_count": null,
   "metadata": {},
   "outputs": [],
   "source": []
  }
 ],
 "metadata": {
  "kernelspec": {
   "display_name": "Python 3",
   "language": "python",
   "name": "python3"
  },
  "language_info": {
   "codemirror_mode": {
    "name": "ipython",
    "version": 3
   },
   "file_extension": ".py",
   "mimetype": "text/x-python",
   "name": "python",
   "nbconvert_exporter": "python",
   "pygments_lexer": "ipython3",
   "version": "3.6.2"
  }
 },
 "nbformat": 4,
 "nbformat_minor": 2
}
