{
 "cells": [
  {
   "cell_type": "code",
   "execution_count": null,
   "metadata": {},
   "outputs": [],
   "source": [
    "import requests\n",
    "import json\n",
    "import pandas\n",
    "import collections\n",
    "\n",
    "#r = requests.get(url)\n",
    "#for row in r.json():\n",
    "#    print(row)\n",
    "f = open('all_TCGA_data/patient_info/mixed_allen_2018.txt')\n",
    "data = json.load(f)\n",
    "f.close()\n",
    "\n",
    "for row in data:\n",
    "    print(row['patientId'], row['studyId'])\n",
    "    print(row['cancerStudy'])\n",
    "    break\n",
    "    \n",
    "patientIds = [x['patientId'] for x in data]\n",
    "print(patientIds)\n",
    "df = pandas.read_csv('all_TCGA_data/api_outputs/our_rbps_mixed_allen_2018.txt', sep='\\t', comment='#', dtype='str')\n",
    "\n",
    "matchedPatientIds = collections.defaultdict(set)\n",
    "matchedSampleIds = collections.defaultdict(set)\n",
    "unmatchedIds = []\n",
    "\n",
    "for sampleId in [_ for _ in df.columns if _ not in ['GENE_ID', 'COMMON']]:\n",
    "    \n",
    "    matches = [x for x in patientIds if x in sampleId]\n",
    "    \n",
    "    if len(matches) > 1:\n",
    "        matches = sorted(matches, key=lambda x: len(x), reverse=True)\n",
    "#        matchedIds[matches].add(sampleId)\n",
    "    elif len(matches) == 0:\n",
    "        continue\n",
    "    matchedPatientIds[matches[0]].add(sampleId)\n",
    "    matchedSampleIds[sampleId].add(matches[0])\n",
    "    \n",
    "    print(matches[0], sampleId)\n",
    "print(matchedIds['AC-DFCI_AC_PD1-1-Tumor-SM-9LRI9'])\n",
    "unmatchedSampleIds = [_ for _ in df.columns if (_ not in ['GENE_ID', 'COMMON']) and (_ not in matchedSampleIds)]\n",
    "unmatchedPatientIds = [_ for _ in patientIds if _ not in matchedPatientIds]\n",
    "print(f\"UnmatchedSampleIDs {unmatchedSampleIds}\")\n",
    "print(f\"UnmatchedPatientIDS {unmatchedPatientIds}\")"
   ]
  },
  {
   "cell_type": "code",
   "execution_count": null,
   "metadata": {},
   "outputs": [],
   "source": []
  }
 ],
 "metadata": {
  "kernelspec": {
   "display_name": "Python 3",
   "language": "python",
   "name": "python3"
  },
  "language_info": {
   "codemirror_mode": {
    "name": "ipython",
    "version": 3
   },
   "file_extension": ".py",
   "mimetype": "text/x-python",
   "name": "python",
   "nbconvert_exporter": "python",
   "pygments_lexer": "ipython3",
   "version": "3.7.4"
  }
 },
 "nbformat": 4,
 "nbformat_minor": 4
}
