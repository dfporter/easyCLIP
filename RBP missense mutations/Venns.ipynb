{
 "cells": [
  {
   "cell_type": "code",
   "execution_count": null,
   "metadata": {},
   "outputs": [],
   "source": [
    "import matplotlib.pyplot as plt\n",
    "import pandas, collections\n",
    "import matplotlib_venn\n",
    "from venn import venn\n",
    "\n",
    "def lts(x):\n",
    "    return set(x) - set([''])\n",
    "\n",
    "amigo = pandas.read_csv('listsOfRbps/rna_binding_genes_from_amigo.txt', sep='\\t', comment='#')['Gene name'].tolist()\n",
    "\n",
    "census = pandas.read_excel('listsOfRbps/rbp_table_from_rbp_census_nrg3818_s3.xls')['gene name'].tolist()\n",
    "amigo = set(amigo) - set([''])\n",
    "census = set(census) - set([''])\n",
    "\n",
    "# Second way\n",
    "v = matplotlib_venn.venn2([amigo, census], set_labels=['RNA-binding GO term', 'RBP Census'], alpha=0)\n",
    "c = matplotlib_venn.venn2_circles([amigo, census], color='black', linestyle='solid')\n",
    "#c[0].set_lw(8.0)\n",
    "#c[0].set_ls('solid')\n",
    "#c[0].set_color('grey')\n",
    "#c[0].set_alpha(0.5)\n",
    "#v.get_patch_by_id('10').set_alpha(1.0)\n",
    "#v.get_patch_by_id('10').set_color('white')\n",
    "\n",
    "plt.show()\n",
    "plt.clf(); plt.close()"
   ]
  },
  {
   "cell_type": "code",
   "execution_count": null,
   "metadata": {},
   "outputs": [],
   "source": [
    "bailey = pandas.read_excel('cancerLists/bailey_mh_cell_cancerDrivers.xlsx', sheet_name='Table S1')['Gene'].tolist()\n",
    "bailey = lts(bailey)\n",
    "oncokb = pandas.read_csv('cancerLists/cancerGeneList.txt', sep='\\t')['Hugo Symbol'].tolist()\n",
    "oncokb = lts(oncokb)\n",
    "cosmic = pandas.read_csv('cancerLists/Census_allThu May 30 21_44_43 2019.tsv', sep='\\t')['Gene Symbol'].tolist()\n",
    "cosmic = lts(cosmic)\n",
    "\n",
    "print(f\"COSMIC cancer census has {len(cosmic)} proteins.\")\n",
    "any_cancer_list = cosmic | bailey | oncokb\n",
    "any_rbp_list = census | amigo\n",
    "plot_dict = {\n",
    "    'cosmic': cosmic, 'Bailey': bailey, 'OncoKB': oncokb,\n",
    "    'RBP census': census, 'RBP (Amigo)': amigo}\n",
    "plot_dict = {\n",
    "    #'RBP': any_rbp_list,\n",
    "    'COSMIC cancer genes': cosmic,\n",
    "    'RBP census': census, 'RBP (GO terms)': amigo}\n",
    "\n",
    "#print(plot_dict)\n",
    "import pyvenn_venn\n",
    "v = matplotlib_venn.venn3(\n",
    "    [cosmic, amigo, census],\n",
    "    set_labels=['COSMIC cancer genes', 'RNA-binding GO term', 'RBP Census'], alpha=0)\n",
    "c = matplotlib_venn.venn3_circles([cosmic, amigo, census], color='black', linestyle='solid')\n",
    "color='lightblue'\n",
    "v.get_patch_by_id('110').set_alpha(1.0)\n",
    "v.get_patch_by_id('110').set_color(color)\n",
    "v.get_patch_by_id('111').set_alpha(1.0)\n",
    "v.get_patch_by_id('111').set_color(color)\n",
    "v.get_patch_by_id('101').set_alpha(1.0)\n",
    "v.get_patch_by_id('101').set_color(color)\n",
    "plt.savefig('./figs/venn_cancer_rbps.svg')\n",
    "plt.show()\n",
    "plt.clf(); plt.close()\n",
    "\n"
   ]
  },
  {
   "cell_type": "code",
   "execution_count": null,
   "metadata": {},
   "outputs": [],
   "source": [
    "def which_groups(gene_name):\n",
    "    print(gene_name + '->')\n",
    "    if gene_name in (amigo & census & cosmic):\n",
    "        print(\"AMIGO + Census + COSMIC\")\n",
    "    elif gene_name in (amigo & cosmic):\n",
    "        print(\"COSMIC + AMIGO\")\n",
    "    elif gene_name in (census & cosmic):\n",
    "        print('COSMIC + Census')\n",
    "        \n",
    "which_groups('SMAD2')\n",
    "which_groups('SMAD3')\n",
    "which_groups('SMAD4')\n",
    "which_groups('BRCA1')\n",
    "which_groups('SOX2')\n",
    "for x in ['KMT2C', 'SPEN', 'TAF15', 'CHD2', 'JUN', 'EZH2']:\n",
    "    which_groups(x)"
   ]
  },
  {
   "cell_type": "code",
   "execution_count": null,
   "metadata": {},
   "outputs": [],
   "source": []
  }
 ],
 "metadata": {
  "kernelspec": {
   "display_name": "Python 3",
   "language": "python",
   "name": "python3"
  },
  "language_info": {
   "codemirror_mode": {
    "name": "ipython",
    "version": 3
   },
   "file_extension": ".py",
   "mimetype": "text/x-python",
   "name": "python",
   "nbconvert_exporter": "python",
   "pygments_lexer": "ipython3",
   "version": "3.8.0"
  }
 },
 "nbformat": 4,
 "nbformat_minor": 4
}
