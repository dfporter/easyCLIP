{
 "cells": [
  {
   "cell_type": "code",
   "execution_count": null,
   "metadata": {},
   "outputs": [],
   "source": [
    "import pandas, re, collections, importlib, scipy, os\n",
    "pd = pandas\n",
    "import matplotlib.pyplot as plt\n",
    "import scipy.stats\n",
    "import numpy as np"
   ]
  },
  {
   "cell_type": "code",
   "execution_count": null,
   "metadata": {},
   "outputs": [],
   "source": [
    "os.chdir('/Users/dfporter/smaller_projects/perturb/')"
   ]
  },
  {
   "cell_type": "code",
   "execution_count": null,
   "metadata": {},
   "outputs": [],
   "source": [
    "# Get GGR RNA expression.\n",
    "\n",
    "# Translation table.\n",
    "ensg_id = pandas.read_csv('translations/ensg_enst_refseq_name.txt', sep='\\t')\n",
    "print(ensg_id.shape)\n",
    "ensg_id.drop_duplicates(subset=['Ensembl Gene ID'], inplace=True)\n",
    "ensg_to_id = dict(zip(ensg_id['Ensembl Gene ID'], ensg_id['Associated Gene Name']))\n",
    "\n",
    "# GGR data.\n",
    "ggr_tpm = pandas.read_csv('ggr/ggr.rna.tpm.pc.mat.txt', sep='\\t')\n",
    "ggr_tpm['max'] = ggr_tpm.max(axis=1)\n",
    "ggr_tpm = ggr_tpm.loc[[x>0 for x in ggr_tpm['max']], :]\n",
    "ggr_tpm['log_max'] = np.log10(ggr_tpm['max'])\n",
    "ggr_tpm['Gene name'] = [ensg_to_id.get(_id, 'None') for _id in ggr_tpm.gene_id]\n",
    "\n",
    "#ggr_tpm['Expressed'] = [\n",
    "#    {True: 'Yes', False: 'No'}[bool(x>0.5)] for x in ggr_tpm['log_max']\n",
    "#]\n",
    "\n",
    "name_to_expression = dict(zip(ggr_tpm['Gene name'], ggr_tpm['log_max']))"
   ]
  },
  {
   "cell_type": "code",
   "execution_count": null,
   "metadata": {},
   "outputs": [],
   "source": [
    "exp_vals = ggr_tpm['log_max']\n",
    "#exp_vals = exp_vals[exp_vals<3]\n",
    "plt.hist(exp_vals, bins=100)\n",
    "plt.show()\n",
    "plt.clf()\n",
    "plt.close()"
   ]
  },
  {
   "cell_type": "code",
   "execution_count": null,
   "metadata": {},
   "outputs": [],
   "source": [
    "# Get protein expression in skin\n",
    "nt = pandas.read_csv('./proteinatlas/normal_tissue.tsv', sep='\\t')\n",
    "skin = nt.loc[[bool(re.search('Skin', x, re.IGNORECASE)) for x in nt.Tissue], :]\n",
    "\n",
    "print(skin['Cell type'].value_counts())\n",
    "\n",
    "kc_prot = skin.loc[[(x in ['keratinocytes', 'epidermal cells']) for x in skin['Cell type']], :]\n",
    "name_to_protein_level = dict(zip(kc_prot['Gene name'], kc_prot.Level))\n",
    "\n",
    "print(kc_prot['Level'].value_counts())"
   ]
  },
  {
   "cell_type": "code",
   "execution_count": null,
   "metadata": {},
   "outputs": [],
   "source": [
    "df = pandas.read_csv('./G-protein_library.txt', header=None)\n",
    "df.columns = ['Gene name']\n",
    "df.drop_duplicates(subset='Gene name', inplace=True)\n",
    "gene_names_translatable = set(ensg_to_id.values())\n",
    "def lookup(symbol):\n",
    "    if symbol in name_to_expression:\n",
    "        return 'Found in GGR'\n",
    "    elif symbol in gene_names_translatable:\n",
    "        return 'In Translation table, not in GGR data.'\n",
    "    return 'Not in translation table.'\n",
    "\n",
    "df['log_max_ggr_rna_tpm'] = [name_to_expression.get(x, -3) for x in df['Gene name']]\n",
    "df['Protein_atlas_protein_exp_in_skin'] = [name_to_protein_level.get(x, 'Not found') for x in df['Gene name']]\n",
    "\n",
    "df['lookup'] = [lookup(x) for x in df['Gene name']]\n",
    "df['Expressed?'] = [float(x)>0 for x in df.log_max_ggr_rna_tpm]\n",
    "exp_in_skin = df[df['Expressed?']]\n",
    "print(df['lookup'].value_counts())\n",
    "print(f'All in G-protein library: {df.shape[0]}')\n",
    "print(f'Expressed in skin: {exp_in_skin.shape[0]}')\n",
    "#print(f'{df}')\n",
    "print(df)\n",
    "df.to_excel('G-protein_library.xlsx')"
   ]
  },
  {
   "cell_type": "code",
   "execution_count": null,
   "metadata": {},
   "outputs": [],
   "source": []
  }
 ],
 "metadata": {
  "kernelspec": {
   "display_name": "Python 3",
   "language": "python",
   "name": "python3"
  },
  "language_info": {
   "codemirror_mode": {
    "name": "ipython",
    "version": 3
   },
   "file_extension": ".py",
   "mimetype": "text/x-python",
   "name": "python",
   "nbconvert_exporter": "python",
   "pygments_lexer": "ipython3",
   "version": "3.6.2"
  }
 },
 "nbformat": 4,
 "nbformat_minor": 2
}
